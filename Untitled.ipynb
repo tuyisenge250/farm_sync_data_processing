{
 "cells": [
  {
   "cell_type": "code",
   "execution_count": 2,
   "id": "2a4b5406",
   "metadata": {},
   "outputs": [
    {
     "data": {
      "text/html": [
       "<div>\n",
       "<style scoped>\n",
       "    .dataframe tbody tr th:only-of-type {\n",
       "        vertical-align: middle;\n",
       "    }\n",
       "\n",
       "    .dataframe tbody tr th {\n",
       "        vertical-align: top;\n",
       "    }\n",
       "\n",
       "    .dataframe thead th {\n",
       "        text-align: right;\n",
       "    }\n",
       "</style>\n",
       "<table border=\"1\" class=\"dataframe\">\n",
       "  <thead>\n",
       "    <tr style=\"text-align: right;\">\n",
       "      <th></th>\n",
       "      <th>Date</th>\n",
       "      <th>T2M</th>\n",
       "      <th>PRECTOTCORR</th>\n",
       "      <th>WS2M</th>\n",
       "      <th>RH2M</th>\n",
       "      <th>ALLSKY_SFC_SW_DWN</th>\n",
       "    </tr>\n",
       "  </thead>\n",
       "  <tbody>\n",
       "    <tr>\n",
       "      <th>0</th>\n",
       "      <td>1983-01-01</td>\n",
       "      <td>20.58</td>\n",
       "      <td>2.43</td>\n",
       "      <td>0.82</td>\n",
       "      <td>71.81</td>\n",
       "      <td>-999.0</td>\n",
       "    </tr>\n",
       "    <tr>\n",
       "      <th>1</th>\n",
       "      <td>1983-01-02</td>\n",
       "      <td>20.17</td>\n",
       "      <td>1.21</td>\n",
       "      <td>1.36</td>\n",
       "      <td>79.77</td>\n",
       "      <td>-999.0</td>\n",
       "    </tr>\n",
       "    <tr>\n",
       "      <th>2</th>\n",
       "      <td>1983-01-03</td>\n",
       "      <td>19.24</td>\n",
       "      <td>1.33</td>\n",
       "      <td>0.91</td>\n",
       "      <td>79.70</td>\n",
       "      <td>-999.0</td>\n",
       "    </tr>\n",
       "    <tr>\n",
       "      <th>3</th>\n",
       "      <td>1983-01-04</td>\n",
       "      <td>19.39</td>\n",
       "      <td>4.37</td>\n",
       "      <td>1.28</td>\n",
       "      <td>81.99</td>\n",
       "      <td>-999.0</td>\n",
       "    </tr>\n",
       "    <tr>\n",
       "      <th>4</th>\n",
       "      <td>1983-01-05</td>\n",
       "      <td>20.25</td>\n",
       "      <td>1.77</td>\n",
       "      <td>0.60</td>\n",
       "      <td>77.42</td>\n",
       "      <td>-999.0</td>\n",
       "    </tr>\n",
       "  </tbody>\n",
       "</table>\n",
       "</div>"
      ],
      "text/plain": [
       "         Date    T2M  PRECTOTCORR  WS2M   RH2M  ALLSKY_SFC_SW_DWN\n",
       "0  1983-01-01  20.58         2.43  0.82  71.81             -999.0\n",
       "1  1983-01-02  20.17         1.21  1.36  79.77             -999.0\n",
       "2  1983-01-03  19.24         1.33  0.91  79.70             -999.0\n",
       "3  1983-01-04  19.39         4.37  1.28  81.99             -999.0\n",
       "4  1983-01-05  20.25         1.77  0.60  77.42             -999.0"
      ]
     },
     "execution_count": 2,
     "metadata": {},
     "output_type": "execute_result"
    }
   ],
   "source": [
    "import pandas as pd\n",
    "df = pd.read_csv('data/Huye_climate_data.csv')\n",
    "df.head()\n"
   ]
  },
  {
   "cell_type": "code",
   "execution_count": 3,
   "id": "4c7de68d",
   "metadata": {},
   "outputs": [
    {
     "name": "stdout",
     "output_type": "stream",
     "text": [
      "✅ Environment ready!\n"
     ]
    }
   ],
   "source": [
    "import numpy as np\n",
    "import pandas as pd\n",
    "import matplotlib.pyplot as plt\n",
    "from sklearn.preprocessing import StandardScaler\n",
    "\n",
    "print(\"✅ Environment ready!\")\n"
   ]
  }
 ],
 "metadata": {
  "kernelspec": {
   "display_name": "venv (3.13.5)",
   "language": "python",
   "name": "python3"
  },
  "language_info": {
   "codemirror_mode": {
    "name": "ipython",
    "version": 3
   },
   "file_extension": ".py",
   "mimetype": "text/x-python",
   "name": "python",
   "nbconvert_exporter": "python",
   "pygments_lexer": "ipython3",
   "version": "3.13.5"
  }
 },
 "nbformat": 4,
 "nbformat_minor": 5
}
